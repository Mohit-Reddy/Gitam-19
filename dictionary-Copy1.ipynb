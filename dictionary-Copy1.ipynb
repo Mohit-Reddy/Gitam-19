{
 "cells": [
  {
   "cell_type": "code",
   "execution_count": 5,
   "metadata": {},
   "outputs": [
    {
     "name": "stdout",
     "output_type": "stream",
     "text": [
      "user1[NAME]= Mohit Reddy\n",
      "user1[EMAIL-ID]= mohitreddy.vatti@gmail.com\n",
      "user1[AGE]= 19\n",
      "user1[MOBILE-NUMBER]= 7729818289\n"
     ]
    },
    {
     "data": {
      "text/plain": [
       "4"
      ]
     },
     "execution_count": 5,
     "metadata": {},
     "output_type": "execute_result"
    }
   ],
   "source": [
    "user1={'NAME':'Mohit','AGE':'19','EMAIL-ID':'mohitreddy.vatti@gmail.com','MOBILE-NUMBER':'7729818289'}\n",
    "user1['NAME']='Mohit Reddy'\n",
    "print(\"user1[NAME]=\",user1['NAME'])\n",
    "print(\"user1[EMAIL-ID]=\",user1['EMAIL-ID'])\n",
    "print(\"user1[AGE]=\",user1['AGE'])\n",
    "print(\"user1[MOBILE-NUMBER]=\",user1['MOBILE-NUMBER'])\n",
    "len(user1)"
   ]
  },
  {
   "cell_type": "code",
   "execution_count": 8,
   "metadata": {},
   "outputs": [
    {
     "name": "stdout",
     "output_type": "stream",
     "text": [
      "{'NAME': 'Mohit', 'AGE': '19', 'EMAIL-ID': 'mohitreddy.vatti@gmail.com', 'MOBILE-NUMBER': '7729818289'}\n",
      "{'NAME': 'Mohit', 'AGE': '19', 'EMAIL-ID': 'mohitreddy.vatti@gmail.com', 'MOBILE-NUMBER': '7729818289'}\n"
     ]
    }
   ],
   "source": [
    "user1={'NAME':'Mohit','AGE':'19','EMAIL-ID':'mohitreddy.vatti@gmail.com','MOBILE-NUMBER':'7729818289'}\n",
    "user2=user1.copy()\n",
    "print(user1)\n",
    "print(user2)\n"
   ]
  },
  {
   "cell_type": "code",
   "execution_count": 9,
   "metadata": {},
   "outputs": [
    {
     "name": "stdout",
     "output_type": "stream",
     "text": [
      "NAME= Mohit\n",
      "EMAIL-ID= mohithreddy.vatti@gmail.com\n",
      "AGE= 20\n",
      "MOBILE-NUMBER= 7729818289\n",
      "{'NAME': 'Mohit', 'AGE': '20', 'EMAIL-ID': 'mohithreddy.vatti@gmail.com', 'MOBILE-NUMBER': '7729818289', 'ADDRESS': 'Gachibowli'}\n",
      "{'NAME': 'Roshan', 'AGE': '20', 'EMAIL-ID': 'mohithreddy.vatti@gmail.com', 'MOBILE-NUMBER': '7729818289'}\n"
     ]
    }
   ],
   "source": [
    "user1={'NAME':'Roshan','AGE':'20','EMAIL-ID':'mohithreddy.vatti@gmail.com','MOBILE-NUMBER':'7729818289'}\n",
    "user2=user1.copy()\n",
    "user1['NAME']='Mohit'\n",
    "print(\"NAME=\",user1['NAME'])\n",
    "print(\"EMAIL-ID=\",user1['EMAIL-ID'])\n",
    "print(\"AGE=\",user1['AGE'])\n",
    "print(\"MOBILE-NUMBER=\",user1['MOBILE-NUMBER'])\n",
    "user1['ADDRESS']='Gachibowli'\n",
    "print(user1)\n",
    "print(user2)"
   ]
  },
  {
   "cell_type": "code",
   "execution_count": 10,
   "metadata": {},
   "outputs": [
    {
     "name": "stdout",
     "output_type": "stream",
     "text": [
      "True\n"
     ]
    }
   ],
   "source": [
    "print('Hello!2@#World'.istitle()) \n"
   ]
  },
  {
   "cell_type": "code",
   "execution_count": 11,
   "metadata": {},
   "outputs": [
    {
     "name": "stdout",
     "output_type": "stream",
     "text": [
      "NAME\n",
      "NAME\n"
     ]
    }
   ],
   "source": [
    "user1={'NAME':'Roshan','AGE':'19','EMAIL-ID':'roshan13341@gmail.com','MOBILE-NUMBER':'9515881637'}\n",
    "lst=list(user1)\n",
    "print(lst[0])\n",
    "print(\"{0}\".format(lst[0]))\n"
   ]
  },
  {
   "cell_type": "code",
   "execution_count": 28,
   "metadata": {},
   "outputs": [
    {
     "name": "stdout",
     "output_type": "stream",
     "text": [
      "contact roshan added\n",
      "contact sate added\n",
      "contact mohit added\n",
      "contact roshan alreaady exists\n",
      "roshan  :  9515881637\n",
      "sate  :  9000492323\n",
      "mohit  :  7729818289\n",
      "sreekar contact doesnt exist\n",
      "{'roshan': 9515881637, 'sate': 9000492323, 'mohit': 7729818289} 2 contacts added successfully\n",
      "{'roshan': 9515881637, 'sate': 9000492323, 'mohit': 7729818289, 'me': 999999999, 'mine': 9898989898} me is deleted from the contacts\n",
      "mine is deleted from the contacts\n"
     ]
    }
   ],
   "source": [
    "contacts={}\n",
    "def addcontact(name,phone):\n",
    "    if name not in contacts:\n",
    "        contacts[name]=phone\n",
    "        print(\"contact %s added\" % name)\n",
    "    else:\n",
    "        print(\"contact %s alreaady exists\" % name)\n",
    "    return\n",
    "\n",
    "addcontact(\"roshan\",9515881637)\n",
    "addcontact(\"sate\",9000492323)\n",
    "addcontact(\"mohit\",7729818289)\n",
    "addcontact(\"roshan\",9515881637)\n",
    "def searchcontact(name):\n",
    "    if name.upper() and name.lower() in contacts:\n",
    "        print(name, \" : \", contacts[name])\n",
    "    else:\n",
    "        print(\"%s contact doesnt exist\"% name)\n",
    "    return\n",
    "\n",
    "searchcontact(\"roshan\")\n",
    "searchcontact(\"sate\")\n",
    "searchcontact(\"mohit\")\n",
    "searchcontact(\"sreekar\")\n",
    "print(contacts,end=\" \")\n",
    "def importcontacts(newcontact):\n",
    "    contacts.update(newcontact)\n",
    "    print(len(newcontact.keys()),\"contacts added successfully\")\n",
    "    return\n",
    "newcontact={'me':999999999,'mine':9898989898}\n",
    "importcontacts(newcontact)\n",
    "print(contacts,end=\" \")\n",
    "def deletecontact(name):\n",
    "   if name.upper() and name.lower() in contacts:\n",
    "       del contacts[name]\n",
    "       print(name, \"is deleted from the contacts\")\n",
    "   else:\n",
    "       print(name, \"doesnt exsits in the contacts\")\n",
    "   return\n",
    "deletecontact(\"me\")\n",
    "deletecontact(\"mine\")\n"
   ]
  },
  {
   "cell_type": "code",
   "execution_count": 30,
   "metadata": {},
   "outputs": [
    {
     "name": "stdout",
     "output_type": "stream",
     "text": [
      "value at :1 value at : 2\n",
      "value at :3 value at : 4\n"
     ]
    }
   ],
   "source": [
    "lst=[1,2,3,4]\n",
    "print(\"value at :{0} value at : {1}\".format(lst[0],lst[1]))\n",
    "print(\"value at :{0} value at : {1}\".format(lst[2],lst[3]))"
   ]
  },
  {
   "cell_type": "code",
   "execution_count": null,
   "metadata": {},
   "outputs": [],
   "source": []
  }
 ],
 "metadata": {
  "kernelspec": {
   "display_name": "Python 3",
   "language": "python",
   "name": "python3"
  },
  "language_info": {
   "codemirror_mode": {
    "name": "ipython",
    "version": 3
   },
   "file_extension": ".py",
   "mimetype": "text/x-python",
   "name": "python",
   "nbconvert_exporter": "python",
   "pygments_lexer": "ipython3",
   "version": "3.7.3"
  }
 },
 "nbformat": 4,
 "nbformat_minor": 2
}
